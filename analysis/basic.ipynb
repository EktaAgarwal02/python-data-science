{
 "cells": [
  {
   "cell_type": "code",
   "execution_count": 1,
   "metadata": {},
   "outputs": [],
   "source": [
    "import pandas as pd"
   ]
  },
  {
   "cell_type": "markdown",
   "metadata": {},
   "source": [
    "pandas for analysis\n",
    "-datatset\n",
    "-dictionary of items\n",
    "- list of items\n",
    "- import csv files \n",
    "- import excel File\n",
    "- import json File\n",
    "- creating dataframe \n",
    "- reading data\n",
    "- selection of data\n",
    "- manipulating the data\n",
    "- cleaning the data\n",
    "- visualizing the data\n",
    "- saving the data"
   ]
  }
 ],
 "metadata": {
  "kernelspec": {
   "display_name": "base",
   "language": "python",
   "name": "python3"
  },
  "language_info": {
   "codemirror_mode": {
    "name": "ipython",
    "version": 3
   },
   "file_extension": ".py",
   "mimetype": "text/x-python",
   "name": "python",
   "nbconvert_exporter": "python",
   "pygments_lexer": "ipython3",
   "version": "3.12.4"
  }
 },
 "nbformat": 4,
 "nbformat_minor": 2
}
