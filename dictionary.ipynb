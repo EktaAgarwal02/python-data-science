{
 "cells": [
  {
   "cell_type": "code",
   "execution_count": null,
   "metadata": {},
   "outputs": [],
   "source": []
  },
  {
   "cell_type": "markdown",
   "metadata": {},
   "source": [
    "DICTIONARY\n",
    "- HOW TO DECLARE IT\n",
    "- HOW TO ACCESS KEY AND VALUES OF A DICTIONARY\n",
    "- HOW TO USE LOOPS IN DICTIONARY"
   ]
  },
  {
   "cell_type": "code",
   "execution_count": 2,
   "metadata": {},
   "outputs": [
    {
     "name": "stdout",
     "output_type": "stream",
     "text": [
      "{'name': 'john', 'class': '12th', 'rollno': 12, 'age': 17}\n"
     ]
    }
   ],
   "source": [
    "student = {\n",
    "    \"name\" : \"john\",\n",
    "    \"class\" : \"12th\",\n",
    "    \"rollno\": 12,\n",
    "    \"age\" : 17\n",
    "}\n",
    "print(student)"
   ]
  },
  {
   "cell_type": "code",
   "execution_count": 3,
   "metadata": {},
   "outputs": [
    {
     "name": "stdout",
     "output_type": "stream",
     "text": [
      "{'lucknow': [25, 30, 35], 'delhi': [30, 35, 40], 'chennai': [24, 23, 22]}\n"
     ]
    }
   ],
   "source": [
    "temp = {\n",
    "    'lucknow' : [25,30,35],\n",
    "    'delhi' : [30,35,40],\n",
    "    'chennai' : [24,23,22]\n",
    "}\n",
    "print(temp)"
   ]
  },
  {
   "cell_type": "code",
   "execution_count": 4,
   "metadata": {},
   "outputs": [
    {
     "name": "stdout",
     "output_type": "stream",
     "text": [
      "{'name': 'riya', 'age': 27, 'dept': 'HR', 'salary': 30000}\n"
     ]
    }
   ],
   "source": [
    "info = dict(name='riya', age =27,dept='HR',salary =30000)\n",
    "print(info)"
   ]
  },
  {
   "cell_type": "code",
   "execution_count": 5,
   "metadata": {},
   "outputs": [
    {
     "ename": "ValueError",
     "evalue": "invalid literal for int() with base 10: ' '",
     "output_type": "error",
     "traceback": [
      "\u001b[1;31m---------------------------------------------------------------------------\u001b[0m",
      "\u001b[1;31mValueError\u001b[0m                                Traceback (most recent call last)",
      "Cell \u001b[1;32mIn[5], line 1\u001b[0m\n\u001b[1;32m----> 1\u001b[0m info2 \u001b[38;5;241m=\u001b[39m \u001b[38;5;28mdict\u001b[39m (name \u001b[38;5;241m=\u001b[39m \u001b[38;5;28minput\u001b[39m (\u001b[38;5;124m\"\u001b[39m\u001b[38;5;124menter the name\u001b[39m\u001b[38;5;124m\"\u001b[39m),age \u001b[38;5;241m=\u001b[39m \u001b[38;5;28mint\u001b[39m(\u001b[38;5;28minput\u001b[39m(\u001b[38;5;124m\"\u001b[39m\u001b[38;5;124menter the age\u001b[39m\u001b[38;5;124m\"\u001b[39m)),\n\u001b[0;32m      2\u001b[0m              dept \u001b[38;5;241m=\u001b[39m \u001b[38;5;28minput\u001b[39m(\u001b[38;5;124m\"\u001b[39m\u001b[38;5;124menter the department\u001b[39m\u001b[38;5;124m\"\u001b[39m),salary\u001b[38;5;241m=\u001b[39m\u001b[38;5;28mint\u001b[39m(\u001b[38;5;28minput\u001b[39m(\u001b[38;5;124m\"\u001b[39m\u001b[38;5;124menter the salary\u001b[39m\u001b[38;5;124m\"\u001b[39m)))\n",
      "\u001b[1;31mValueError\u001b[0m: invalid literal for int() with base 10: ' '"
     ]
    }
   ],
   "source": [
    "info2 = dict (name = input (\"enter the name\"),age = int(input(\"enter the age\")),\n",
    "             dept = input(\"enter the department\"),salary=int(input(\"enter the salary\")))"
   ]
  },
  {
   "cell_type": "code",
   "execution_count": null,
   "metadata": {},
   "outputs": [
    {
     "name": "stdout",
     "output_type": "stream",
     "text": [
      "{'name': 'jack', 'age': 23, 'dept': 'finance', 'salary': 23000}\n"
     ]
    }
   ],
   "source": [
    "print(info2)"
   ]
  },
  {
   "cell_type": "code",
   "execution_count": null,
   "metadata": {},
   "outputs": [
    {
     "name": "stdout",
     "output_type": "stream",
     "text": [
      "john\n",
      "12\n"
     ]
    }
   ],
   "source": [
    "#lst method\n",
    "print(student['name'])\n",
    "print(student['rollno'])"
   ]
  },
  {
   "cell_type": "code",
   "execution_count": null,
   "metadata": {},
   "outputs": [
    {
     "name": "stdout",
     "output_type": "stream",
     "text": [
      "john\n",
      "12\n"
     ]
    }
   ],
   "source": [
    "#2nd method\n",
    "print(student.get('name'))\n",
    "print(student.get('rollno'))"
   ]
  },
  {
   "cell_type": "code",
   "execution_count": null,
   "metadata": {},
   "outputs": [
    {
     "name": "stdout",
     "output_type": "stream",
     "text": [
      "{'name': 'john', 'class': '12th', 'rollno': 12, 'age': 17, 'school': 'dps', 'city': 'lucknow'}\n"
     ]
    }
   ],
   "source": [
    "#to add items in a dictionary\n",
    "student['school'] = 'dps'\n",
    "student['city'] ='lucknow'\n",
    "print(student)"
   ]
  },
  {
   "cell_type": "code",
   "execution_count": null,
   "metadata": {},
   "outputs": [
    {
     "name": "stdout",
     "output_type": "stream",
     "text": [
      "name\n",
      "class\n",
      "rollno\n",
      "age\n",
      "school\n",
      "city\n"
     ]
    }
   ],
   "source": [
    "for x in student:\n",
    "    print(x)"
   ]
  },
  {
   "cell_type": "code",
   "execution_count": null,
   "metadata": {},
   "outputs": [
    {
     "name": "stdout",
     "output_type": "stream",
     "text": [
      "name:john\n",
      "class:12th\n",
      "rollno:12\n",
      "age:17\n",
      "school:dps\n",
      "city:lucknow\n"
     ]
    }
   ],
   "source": [
    "for k,v in student.items():\n",
    "    print(f'{k}:{v}')"
   ]
  },
  {
   "cell_type": "code",
   "execution_count": null,
   "metadata": {},
   "outputs": [
    {
     "name": "stdout",
     "output_type": "stream",
     "text": [
      "dict_keys(['name', 'class', 'rollno', 'age', 'school', 'city'])\n",
      "dict_values(['john', '12th', 12, 17, 'dps', 'lucknow'])\n",
      "dict_items([('name', 'john'), ('class', '12th'), ('rollno', 12), ('age', 17), ('school', 'dps'), ('city', 'lucknow')])\n"
     ]
    }
   ],
   "source": [
    "print(student.keys())\n",
    "print(student.values())\n",
    "print(student.items())"
   ]
  },
  {
   "cell_type": "code",
   "execution_count": null,
   "metadata": {},
   "outputs": [
    {
     "name": "stdout",
     "output_type": "stream",
     "text": [
      "{'emp001': {'name': 'john', 'age': 27, 'dept': 'HR', 'salary': 30000}, 'emp002': {'name': 'riya', 'age': 25, 'dept': 'IT', 'salary': 40000}, 'emp003': {'name': 'mike', 'age': 30, 'dept': 'finance', 'salary': 35000}}\n"
     ]
    }
   ],
   "source": [
    "company = {\n",
    "    'emp001' :{\n",
    "        'name' : 'john',\n",
    "        'age' : 27 ,\n",
    "        'dept' : 'HR',\n",
    "        'salary' : 30000 \n",
    "    },\n",
    "'emp002' :{\n",
    "        'name' : 'riya',\n",
    "        'age' : 25 ,\n",
    "        'dept' : 'IT',\n",
    "        'salary' : 40000 \n",
    "},\n",
    "'emp003' :{\n",
    "        'name' : 'mike',\n",
    "        'age' : 30 ,\n",
    "        'dept' : 'finance',\n",
    "        'salary' : 35000\n",
    "    }\n",
    "}\n",
    "print(company)"
   ]
  },
  {
   "cell_type": "code",
   "execution_count": null,
   "metadata": {},
   "outputs": [],
   "source": [
    "from pprint import pp"
   ]
  },
  {
   "cell_type": "code",
   "execution_count": null,
   "metadata": {},
   "outputs": [
    {
     "name": "stdout",
     "output_type": "stream",
     "text": [
      "{'emp001': {'name': 'john', 'age': 27, 'dept': 'HR', 'salary': 30000},\n",
      " 'emp002': {'name': 'riya', 'age': 25, 'dept': 'IT', 'salary': 40000},\n",
      " 'emp003': {'name': 'mike', 'age': 30, 'dept': 'finance', 'salary': 35000}}\n"
     ]
    }
   ],
   "source": [
    "pp(company)"
   ]
  },
  {
   "cell_type": "code",
   "execution_count": null,
   "metadata": {},
   "outputs": [
    {
     "name": "stdout",
     "output_type": "stream",
     "text": [
      "HR\n"
     ]
    }
   ],
   "source": [
    "print(company['emp001']['dept'])"
   ]
  },
  {
   "cell_type": "code",
   "execution_count": null,
   "metadata": {},
   "outputs": [
    {
     "name": "stdout",
     "output_type": "stream",
     "text": [
      "{'emp001': {'name': 'john', 'age': 27, 'dept': 'HR', 'salary': 30000},\n",
      " 'emp002': {'name': 'riya', 'age': 25, 'dept': 'IT', 'salary': 40000},\n",
      " 'emp003': {'name': 'mike', 'age': 30, 'dept': 'finance', 'salary': 35000},\n",
      " 'emp004': {'name': 'sam', 'age': 35, 'dept': 'admin', 'salary': 25000}}\n"
     ]
    }
   ],
   "source": [
    "company['emp004']={\n",
    "    'name' :'sam',\n",
    "    'age' : 35,\n",
    "    'dept': 'admin',\n",
    "    'salary' : 25000 \n",
    "}\n",
    "pp(company)"
   ]
  },
  {
   "cell_type": "code",
   "execution_count": null,
   "metadata": {},
   "outputs": [
    {
     "name": "stdout",
     "output_type": "stream",
     "text": [
      "30\n",
      "35\n"
     ]
    }
   ],
   "source": [
    "print(temp['lucknow'][1])\n",
    "print(temp['delhi'][1])"
   ]
  },
  {
   "cell_type": "code",
   "execution_count": null,
   "metadata": {},
   "outputs": [
    {
     "name": "stdout",
     "output_type": "stream",
     "text": [
      "average temperature in delhi: 35.0\n"
     ]
    }
   ],
   "source": [
    "print('average temperature in delhi:',sum(temp['delhi'])/len(temp['delhi']))"
   ]
  },
  {
   "cell_type": "code",
   "execution_count": 9,
   "metadata": {},
   "outputs": [],
   "source": [
    "from pprint import pp"
   ]
  },
  {
   "cell_type": "markdown",
   "metadata": {},
   "source": [
    "ALEX\n",
    "-> english 85\n",
    "-> maths 90\n",
    "-> science 78\n",
    "-> total marks 253\n",
    "rahul\n",
    "-> english 80\n",
    "-> maths 85\n",
    "-> science 90\n",
    "-> total marks 255\n",
    "\n"
   ]
  },
  {
   "cell_type": "code",
   "execution_count": 10,
   "metadata": {},
   "outputs": [
    {
     "name": "stdout",
     "output_type": "stream",
     "text": [
      "{'Alex': {'English': 85, 'Maths': 90, 'SCIENCE': 78},\n",
      " 'Rahul': {'English': 80, 'Maths': 90, 'SCIENCE': 90}}\n"
     ]
    }
   ],
   "source": [
    "report = {\n",
    "    'Alex' : {\n",
    "        'English' : 85,\n",
    "        'Maths' : 90,\n",
    "        'SCIENCE' :78\n",
    "    },\n",
    "    'Rahul' :{\n",
    "        'English' : 80,\n",
    "        'Maths' : 90,\n",
    "        'SCIENCE' :90\n",
    "\n",
    "    }\n",
    "}\n",
    "pp(report)"
   ]
  },
  {
   "cell_type": "code",
   "execution_count": 11,
   "metadata": {},
   "outputs": [
    {
     "name": "stdout",
     "output_type": "stream",
     "text": [
      "Alex\n",
      "-> English 85\n",
      "-> Maths 90\n",
      "-> SCIENCE 78\n",
      "->total marks : 253\n",
      "Rahul\n",
      "-> English 80\n",
      "-> Maths 90\n",
      "-> SCIENCE 90\n",
      "->total marks : 260\n"
     ]
    }
   ],
   "source": [
    "for student ,marks in report.items():\n",
    "    print(student)\n",
    "    for subject,mark in marks.items():\n",
    "        print('->',subject,mark)\n",
    "    print('->total marks :', sum(marks.values()))"
   ]
  },
  {
   "cell_type": "code",
   "execution_count": null,
   "metadata": {},
   "outputs": [],
   "source": []
  }
 ],
 "metadata": {
  "kernelspec": {
   "display_name": "base",
   "language": "python",
   "name": "python3"
  },
  "language_info": {
   "codemirror_mode": {
    "name": "ipython",
    "version": 3
   },
   "file_extension": ".py",
   "mimetype": "text/x-python",
   "name": "python",
   "nbconvert_exporter": "python",
   "pygments_lexer": "ipython3",
   "version": "3.12.4"
  }
 },
 "nbformat": 4,
 "nbformat_minor": 2
}
