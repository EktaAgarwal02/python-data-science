{
 "cells": [
  {
   "cell_type": "code",
   "execution_count": null,
   "metadata": {},
   "outputs": [],
   "source": []
  },
  {
   "cell_type": "markdown",
   "metadata": {},
   "source": [
    "condition in python\n",
    "- block of code\n",
    " -if,else,elif,while,for,try,except,finally,with,def,class\n",
    "- if condition\n",
    "- if else condition\n",
    "- if elif ladder\n",
    "- nested if else\n",
    "- short hand if else\n",
    "- match case"
   ]
  },
  {
   "cell_type": "markdown",
   "metadata": {},
   "source": []
  },
  {
   "cell_type": "markdown",
   "metadata": {},
   "source": []
  },
  {
   "cell_type": "code",
   "execution_count": 2,
   "metadata": {},
   "outputs": [
    {
     "name": "stdout",
     "output_type": "stream",
     "text": [
      "a is greater than 5\n",
      "hi\n",
      "bye\n"
     ]
    }
   ],
   "source": [
    "a = 10\n",
    "if a>5:\n",
    "    print(\"a is greater than 5\")\n",
    "    print('hi')\n",
    "print('bye')"
   ]
  },
  {
   "cell_type": "markdown",
   "metadata": {},
   "source": []
  },
  {
   "cell_type": "code",
   "execution_count": 18,
   "metadata": {},
   "outputs": [
    {
     "name": "stdout",
     "output_type": "stream",
     "text": [
      "very good,you know how to type long word😊\n"
     ]
    }
   ],
   "source": [
    "word =input('enter a long word')\n",
    "if len(word)>10:\n",
    "    print(\"very good,you know how to type long word😊\")"
   ]
  },
  {
   "cell_type": "code",
   "execution_count": 19,
   "metadata": {},
   "outputs": [
    {
     "name": "stdout",
     "output_type": "stream",
     "text": [
      "yay 100\n"
     ]
    }
   ],
   "source": [
    "n = [12,21,32,43]\n",
    "if sum(n)>100:\n",
    "    print(\"yay 100\")\n",
    "else:\n",
    "    print(\"😐 not 100\")"
   ]
  },
  {
   "cell_type": "code",
   "execution_count": null,
   "metadata": {},
   "outputs": [],
   "source": []
  },
  {
   "cell_type": "code",
   "execution_count": 20,
   "metadata": {},
   "outputs": [
    {
     "name": "stdout",
     "output_type": "stream",
     "text": [
      "product is not 1000\n"
     ]
    }
   ],
   "source": [
    "a = 10\n",
    "b = 20\n",
    "product = a*b \n",
    "if product == 1000:\n",
    "    print(\"product is 1000\",a*b)\n",
    "else:\n",
    "    print('product is not 1000')\n"
   ]
  },
  {
   "cell_type": "code",
   "execution_count": 1,
   "metadata": {},
   "outputs": [
    {
     "name": "stdout",
     "output_type": "stream",
     "text": [
      "grade isA\n"
     ]
    }
   ],
   "source": [
    "# if elif ladder\n",
    "marks = 90\n",
    "if marks> 85:\n",
    "    grade ='A'\n",
    "elif marks > 70:\n",
    "    grade = 'B'\n",
    "elif marks > 60:\n",
    "    grade = 'C'\n",
    "elif marks > 50:\n",
    "    grade ='D'\n",
    "else:\n",
    "    grade ='F'\n",
    "print(f\"grade is{grade}\")"
   ]
  },
  {
   "cell_type": "code",
   "execution_count": 22,
   "metadata": {},
   "outputs": [
    {
     "name": "stdout",
     "output_type": "stream",
     "text": [
      "B 22is largest\n"
     ]
    }
   ],
   "source": [
    "# find the largest number\n",
    "a =10\n",
    "b = 22\n",
    "c = 14\n",
    "if a>b and a>c:\n",
    "    print(f\"A {a} is largest\")\n",
    "elif b>a and b>c:\n",
    "    print(f\"B {b}is largest\")\n",
    "else:\n",
    "    print(f\"C {c}is largest\")"
   ]
  },
  {
   "cell_type": "code",
   "execution_count": 2,
   "metadata": {},
   "outputs": [
    {
     "name": "stdout",
     "output_type": "stream",
     "text": [
      "✔️welcome,admin\n"
     ]
    }
   ],
   "source": [
    "un =input('enter a username')\n",
    "pw =input('enter a password')\n",
    "if un  and pw:\n",
    "    if un == 'admin':\n",
    "        if pw == 'admin':\n",
    "            print(\"✔️welcome,admin\")\n",
    "        else:\n",
    "            print(\"wrong password\")\n",
    "    else:\n",
    "        print(\"wrong username\")\n",
    "else:\n",
    "    print(\"enter valid details\")\n"
   ]
  },
  {
   "cell_type": "code",
   "execution_count": null,
   "metadata": {},
   "outputs": [
    {
     "name": "stdout",
     "output_type": "stream",
     "text": [
      "✔️\n",
      "✔️\n"
     ]
    }
   ],
   "source": [
    "# short hand if else \n",
    "a = 13\n",
    "# if a>= 10:\n",
    "#     print(\"✔️✔️✔️\")\n",
    "# else:\n",
    "#     print(\"❌❌❌\")\n",
    "print(\"✔️\") if a>=10 else print(\"❌\")\n",
    "print(\"✔️\" if a>=10 else\"❌\")\n"
   ]
  },
  {
   "cell_type": "code",
   "execution_count": null,
   "metadata": {},
   "outputs": [
    {
     "name": "stdout",
     "output_type": "stream",
     "text": [
      "what would you like to eat\n",
      "menu\n",
      "1. pizza\n",
      "2. burger\n",
      "3. pasta\n",
      "4. sandwich\n",
      "enter a number\n",
      "your order is burger🍔\n",
      " total amt = 199\n"
     ]
    }
   ],
   "source": [
    "# match case (not similar to switch case)\n",
    "print(\"what would you like to eat\")\n",
    "print(\"menu\")\n",
    "print(\"1. pizza\")\n",
    "print(\"2. burger\")\n",
    "print(\"3. pasta\")\n",
    "print(\"4. sandwich\")\n",
    "print(\"enter a number\")\n",
    "ch = int(input(\"<<<\"))\n",
    "# match ch:\n",
    "#     case 1:\n",
    "#         print(\"your order is pizza🍕\\n total amt = 400\")\n",
    "#     case 2:\n",
    "#         print(\"your order is burger🍔\\n total amt = 199\")\n",
    "#     case 3:\n",
    "#         print(\"your order is pasta 🍝\\n total amt=299\")\n",
    "#     case 4:\n",
    "#         print(\"your order is sandwich🥪\\n total amt = 99\")\n",
    "#     case _:\n",
    "#         print(\"invalid choice\")\n",
    "\n",
    "if ch == 1:\n",
    "    print(\"your order is pizza🍕\\n total amt = 400\")\n",
    "elif ch == 2:\n",
    "    print(\"your order is burger🍔\\n total amt = 199\")\n",
    "elif ch == 3:\n",
    "    print(\"your order is pasta 🍝\\n total amt=299\")\n",
    "elif ch == 4:\n",
    "    print(\"your order is sandwich🥪\\n total amt = 99\")\n",
    "else:\n",
    "    print(\"invalid choice\")"
   ]
  },
  {
   "cell_type": "code",
   "execution_count": null,
   "metadata": {},
   "outputs": [],
   "source": []
  }
 ],
 "metadata": {
  "kernelspec": {
   "display_name": "base",
   "language": "python",
   "name": "python3"
  },
  "language_info": {
   "codemirror_mode": {
    "name": "ipython",
    "version": 3
   },
   "file_extension": ".py",
   "mimetype": "text/x-python",
   "name": "python",
   "nbconvert_exporter": "python",
   "pygments_lexer": "ipython3",
   "version": "3.12.4"
  }
 },
 "nbformat": 4,
 "nbformat_minor": 2
}
