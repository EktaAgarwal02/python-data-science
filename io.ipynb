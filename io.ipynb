{
 "cells": [
  {
   "cell_type": "code",
   "execution_count": 1,
   "metadata": {},
   "outputs": [
    {
     "name": "stdout",
     "output_type": "stream",
     "text": [
      "hello, i am ekta\n"
     ]
    }
   ],
   "source": [
    "print(\"hello, i am ekta\")"
   ]
  },
  {
   "cell_type": "markdown",
   "metadata": {},
   "source": []
  },
  {
   "cell_type": "code",
   "execution_count": 2,
   "metadata": {},
   "outputs": [
    {
     "name": "stdout",
     "output_type": "stream",
     "text": [
      "once upon a time\n",
      "there was a monkey\n",
      "sitting on a tree\n",
      "to be continue\n"
     ]
    }
   ],
   "source": [
    "print(\"once upon a time\")\n",
    "print(\"there was a monkey\")\n",
    "print(\"sitting on a tree\")\n",
    "print(\"to be continue\")"
   ]
  },
  {
   "cell_type": "code",
   "execution_count": 3,
   "metadata": {},
   "outputs": [
    {
     "name": "stdout",
     "output_type": "stream",
     "text": [
      "10 20 30\n",
      "10 * 20 = 30\n"
     ]
    }
   ],
   "source": [
    "a= 10 \n",
    "b = 20\n",
    "c = 30\n",
    "print(a , b,c) \n",
    "print(a,\"*\",b,\"=\",c)"
   ]
  },
  {
   "cell_type": "code",
   "execution_count": 4,
   "metadata": {},
   "outputs": [
    {
     "name": "stdout",
     "output_type": "stream",
     "text": [
      "10 20 200\n",
      "10 * 20 = 200\n"
     ]
    }
   ],
   "source": [
    "a = 10 \n",
    "b = 20\n",
    "c = a * b\n",
    "print(a , b,c) \n",
    "print(a,\"*\",b,\"=\",c)"
   ]
  },
  {
   "cell_type": "code",
   "execution_count": 5,
   "metadata": {},
   "outputs": [
    {
     "ename": "SyntaxError",
     "evalue": "invalid syntax (3087524411.py, line 1)",
     "output_type": "error",
     "traceback": [
      "\u001b[1;36m  Cell \u001b[1;32mIn[5], line 1\u001b[1;36m\u001b[0m\n\u001b[1;33m    name \"sara\"\u001b[0m\n\u001b[1;37m         ^\u001b[0m\n\u001b[1;31mSyntaxError\u001b[0m\u001b[1;31m:\u001b[0m invalid syntax\n"
     ]
    }
   ],
   "source": [
    "name \"sara\"\n",
    "age =25\n",
    "job =\"sde 1\"\n",
    "print(\"name\",\"age\",\"job\")"
   ]
  },
  {
   "cell_type": "code",
   "execution_count": 10,
   "metadata": {},
   "outputs": [
    {
     "name": "stdout",
     "output_type": "stream",
     "text": [
      "😊name sara ,age 25 ,job sde 1\n"
     ]
    }
   ],
   "source": [
    "name = \"sara\"\n",
    "age =25\n",
    "job =\"sde 1\"\n",
    "print(\"😊name\",name,\",age\",age,\",job\",job)"
   ]
  },
  {
   "cell_type": "code",
   "execution_count": 9,
   "metadata": {},
   "outputs": [
    {
     "name": "stdout",
     "output_type": "stream",
     "text": [
      "Name: sara\n",
      "Age: 25\n",
      "Job: sde 1\n"
     ]
    }
   ],
   "source": [
    "print(\"Name:\",name)\n",
    "print(\"Age:\",age)\n",
    "print(\"Job:\",job)\n"
   ]
  },
  {
   "cell_type": "code",
   "execution_count": 16,
   "metadata": {},
   "outputs": [
    {
     "name": "stdout",
     "output_type": "stream",
     "text": [
      "simple interest calculator\n",
      "principle = 120000\n",
      "rate = 2.5\n",
      "time = 10\n",
      "simple interest = 30000.0\n"
     ]
    }
   ],
   "source": [
    "p = 120000\n",
    "r = 2.5\n",
    "t = 10\n",
    "si = p *r * t / 100\n",
    "print(\"simple interest calculator\")\n",
    "print(f'principle = {p}')\n",
    "print(f'rate = {r}')\n",
    "print(f'time = {t}')\n",
    "print(f'simple interest = {si}')"
   ]
  },
  {
   "cell_type": "code",
   "execution_count": 34,
   "metadata": {},
   "outputs": [
    {
     "name": "stdout",
     "output_type": "stream",
     "text": [
      "simple interest calculator\n",
      "------------------------------\n",
      "principle           120.0k\n",
      "rate                  2.5%\n",
      "time                   10y\n",
      "------------------------------\n",
      "simple interest      30.0k\n",
      "------------------------------\n"
     ]
    }
   ],
   "source": [
    "print(\"simple interest calculator\")\n",
    "print(\"-\"*30)\n",
    "print(f'principle {p/1000:15}k')\n",
    "print(f'rate {r:20}%')\n",
    "print(f'time {t:20}y')\n",
    "print(\"-\"*30)\n",
    "print(f'simple interest {si/1000:9}k')\n",
    "print(\"-\"*30)"
   ]
  },
  {
   "cell_type": "code",
   "execution_count": 37,
   "metadata": {},
   "outputs": [
    {
     "name": "stdout",
     "output_type": "stream",
     "text": [
      "\n",
      "you may be like it \n"
     ]
    }
   ],
   "source": [
    "fav_movie = input(\"plz enter your fav movie\")\n",
    "print(fav_movie)\n",
    "print(\"you may be like it \")"
   ]
  },
  {
   "cell_type": "code",
   "execution_count": 39,
   "metadata": {},
   "outputs": [
    {
     "name": "stdout",
     "output_type": "stream",
     "text": [
      "result is\n",
      "30\n"
     ]
    }
   ],
   "source": [
    "a = input(\"enter a number\")\n",
    "b = input(\"enter another number\")\n",
    "print(\"result is\")\n",
    "print(int(a)+int(b))"
   ]
  },
  {
   "cell_type": "code",
   "execution_count": 40,
   "metadata": {},
   "outputs": [
    {
     "name": "stdout",
     "output_type": "stream",
     "text": [
      "result is\n",
      "30\n"
     ]
    }
   ],
   "source": [
    "a = int(input(\"enter a number\"))\n",
    "b = int(input(\"enter another number\"))\n",
    "print(\"result is\")\n",
    "print(a+b)"
   ]
  },
  {
   "cell_type": "code",
   "execution_count": 1,
   "metadata": {},
   "outputs": [
    {
     "name": "stdout",
     "output_type": "stream",
     "text": [
      "area of sphereis 314.0\n"
     ]
    }
   ],
   "source": [
    "pi =3.14\n",
    "r = 5\n",
    "area = 4 *pi *r**2\n",
    "print(\"area of sphereis\",area)"
   ]
  },
  {
   "cell_type": "code",
   "execution_count": null,
   "metadata": {},
   "outputs": [],
   "source": []
  }
 ],
 "metadata": {
  "kernelspec": {
   "display_name": "base",
   "language": "python",
   "name": "python3"
  },
  "language_info": {
   "codemirror_mode": {
    "name": "ipython",
    "version": 3
   },
   "file_extension": ".py",
   "mimetype": "text/x-python",
   "name": "python",
   "nbconvert_exporter": "python",
   "pygments_lexer": "ipython3",
   "version": "3.12.4"
  }
 },
 "nbformat": 4,
 "nbformat_minor": 2
}
