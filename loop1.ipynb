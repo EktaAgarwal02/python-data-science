{
 "cells": [
  {
   "cell_type": "code",
   "execution_count": 1,
   "metadata": {},
   "outputs": [
    {
     "name": "stdout",
     "output_type": "stream",
     "text": [
      "banana\n",
      "mango\n",
      "papaya\n",
      "orange\n"
     ]
    }
   ],
   "source": [
    "# list\n",
    "fruits = ['banana','mango','papaya','orange']\n",
    "for x in fruits:\n",
    "    print(x)"
   ]
  },
  {
   "cell_type": "code",
   "execution_count": 5,
   "metadata": {},
   "outputs": [
    {
     "name": "stdout",
     "output_type": "stream",
     "text": [
      "h😊e😊l😊l😊o😊 😊w😊o😊r😊l😊d😊"
     ]
    }
   ],
   "source": [
    "# string\n",
    "a = \"hello world\"\n",
    "for x in a:\n",
    "    print(x, end=\"😊\")"
   ]
  },
  {
   "cell_type": "code",
   "execution_count": 6,
   "metadata": {},
   "outputs": [
    {
     "name": "stdout",
     "output_type": "stream",
     "text": [
      "1\n",
      "2\n",
      "3\n",
      "4\n",
      "5\n",
      "6\n",
      "7\n",
      "8\n",
      "9\n",
      "10\n"
     ]
    }
   ],
   "source": [
    "for i in range (1,11):\n",
    "    print(i)"
   ]
  },
  {
   "cell_type": "code",
   "execution_count": 8,
   "metadata": {},
   "outputs": [
    {
     "name": "stdout",
     "output_type": "stream",
     "text": [
      "ekta agarwal\n",
      "ekta agarwal\n",
      "ekta agarwal\n",
      "ekta agarwal\n",
      "ekta agarwal\n"
     ]
    }
   ],
   "source": [
    "for i in range (1,6):\n",
    "    print(\"ekta agarwal\")\n"
   ]
  },
  {
   "cell_type": "code",
   "execution_count": 10,
   "metadata": {},
   "outputs": [
    {
     "name": "stdout",
     "output_type": "stream",
     "text": [
      "1\n",
      "4\n",
      "7\n",
      "10\n",
      "13\n",
      "16\n",
      "19\n"
     ]
    }
   ],
   "source": [
    "# start range,end range ,gap(it count the printed digit also)\n",
    "for i in range (1,21,3):\n",
    "    print(i)"
   ]
  },
  {
   "cell_type": "code",
   "execution_count": 13,
   "metadata": {},
   "outputs": [
    {
     "name": "stdout",
     "output_type": "stream",
     "text": [
      "0 2 4 6 8 10 12 14 16 18 20 22 24 26 28 30 "
     ]
    }
   ],
   "source": [
    "# print even no from 0 to 30\n",
    "for i in range(0,31,2):\n",
    "    print(i, end =\" \")"
   ]
  },
  {
   "cell_type": "code",
   "execution_count": 23,
   "metadata": {},
   "outputs": [
    {
     "name": "stdout",
     "output_type": "stream",
     "text": [
      "1\n",
      "3\n",
      "5\n",
      "7\n",
      "9\n",
      "11\n",
      "13\n",
      "15\n",
      "17\n",
      "19\n",
      "21\n",
      "23\n",
      "25\n",
      "27\n",
      "29\n"
     ]
    }
   ],
   "source": [
    "# print odd number without gap\n",
    "for i in range(30):\n",
    "    if i%2 !=0:\n",
    "        print(i)"
   ]
  },
  {
   "cell_type": "code",
   "execution_count": 26,
   "metadata": {},
   "outputs": [
    {
     "name": "stdout",
     "output_type": "stream",
     "text": [
      "1 2 3 4 5 6 7 8 9 10 11 12 13 14 15 16 17 18 19 20 "
     ]
    }
   ],
   "source": [
    "# while loop for printing 20 numbers\n",
    "i=1\n",
    "while i<=20:\n",
    "    print(i, end =\" \")\n",
    "    i+=1"
   ]
  },
  {
   "cell_type": "code",
   "execution_count": 3,
   "metadata": {},
   "outputs": [
    {
     "name": "stdout",
     "output_type": "stream",
     "text": [
      "I CAN DO IT\n",
      "I CAN DO IT\n",
      "I CAN DO IT\n",
      "I CAN DO IT\n",
      "I CAN DO IT\n"
     ]
    }
   ],
   "source": [
    "# print statement 5 times\n",
    "i = 1\n",
    "while i <=5:\n",
    "    print(\"I CAN DO IT\")\n",
    "    i+=1"
   ]
  },
  {
   "cell_type": "code",
   "execution_count": 1,
   "metadata": {},
   "outputs": [
    {
     "name": "stdout",
     "output_type": "stream",
     "text": [
      "15*1 = 15\n",
      "15*2 = 30\n",
      "15*3 = 45\n",
      "15*4 = 60\n",
      "15*5 = 75\n",
      "15*6 = 90\n",
      "15*7 = 105\n",
      "15*8 = 120\n",
      "15*9 = 135\n",
      "15*10 = 150\n"
     ]
    }
   ],
   "source": [
    "# using while loop print table of 15\n",
    "a = 15\n",
    "x = 1\n",
    "while x<=10:\n",
    "    print(f'{a}*{x} = {a*x}')\n",
    "    x +=1"
   ]
  },
  {
   "cell_type": "code",
   "execution_count": 2,
   "metadata": {},
   "outputs": [
    {
     "name": "stdout",
     "output_type": "stream",
     "text": [
      "15*1=15\n",
      "15*2=30\n",
      "15*3=45\n",
      "15*4=60\n",
      "15*5=75\n",
      "15*6=90\n",
      "15*7=105\n",
      "15*8=120\n",
      "15*9=135\n",
      "15*10=150\n"
     ]
    }
   ],
   "source": [
    "# by using for loop print table of 15\n",
    "a = 15\n",
    "for i in range (1,11):\n",
    "    print(f'{a}*{i}={a*i}')"
   ]
  },
  {
   "cell_type": "code",
   "execution_count": 9,
   "metadata": {},
   "outputs": [
    {
     "name": "stdout",
     "output_type": "stream",
     "text": [
      "134\n"
     ]
    }
   ],
   "source": [
    "# sum of integer using for loop\n",
    "a = [10,30,65,29]\n",
    "total = 0\n",
    "for i in a:\n",
    "    total += i\n",
    "print(total)\n",
    "\n"
   ]
  },
  {
   "cell_type": "code",
   "execution_count": 1,
   "metadata": {},
   "outputs": [
    {
     "name": "stdout",
     "output_type": "stream",
     "text": [
      "2\n",
      "4\n",
      "6\n",
      "8\n",
      "10\n",
      "12\n",
      "14\n",
      "16\n"
     ]
    }
   ],
   "source": [
    "# break\n",
    "a = [2,4,6,8,10,12,14,16,17,18,20]\n",
    "for i in a :\n",
    "    if i == 17:\n",
    "        break \n",
    "    print(i)"
   ]
  },
  {
   "cell_type": "code",
   "execution_count": 2,
   "metadata": {},
   "outputs": [
    {
     "name": "stdout",
     "output_type": "stream",
     "text": [
      "2\n",
      "4\n",
      "6\n",
      "8\n",
      "10\n",
      "12\n",
      "14\n",
      "16\n",
      "18\n",
      "20\n"
     ]
    }
   ],
   "source": [
    "# continue\n",
    "a = [2,4,6,8,10,12,14,16,17,18,20]\n",
    "for i in a :\n",
    "    if i == 17:\n",
    "        continue\n",
    "    print(i)"
   ]
  },
  {
   "cell_type": "code",
   "execution_count": 8,
   "metadata": {},
   "outputs": [
    {
     "name": "stdout",
     "output_type": "stream",
     "text": [
      "ekt"
     ]
    }
   ],
   "source": [
    "b = \"ekta agarwal\"\n",
    "for i in b:\n",
    "    if i == \"a\":\n",
    "        break\n",
    "    print(i, end=\"\")"
   ]
  },
  {
   "cell_type": "code",
   "execution_count": 11,
   "metadata": {},
   "outputs": [
    {
     "name": "stdout",
     "output_type": "stream",
     "text": [
      "ekta\n",
      "nisha\n",
      "bhavya\n",
      "aadya\n",
      "mahi\n"
     ]
    }
   ],
   "source": [
    "names =['ekta','nisha','bhavya','aadya','mahi']\n",
    "for i in names:\n",
    "    print(i)"
   ]
  },
  {
   "cell_type": "code",
   "execution_count": 12,
   "metadata": {},
   "outputs": [
    {
     "name": "stdout",
     "output_type": "stream",
     "text": [
      "0.ekta\n",
      "1.nisha\n",
      "2.bhavya\n",
      "3.aadya\n",
      "4.mahi\n"
     ]
    }
   ],
   "source": [
    "for i,v in enumerate(names):\n",
    "    print(f'{i}.{v}')"
   ]
  },
  {
   "cell_type": "code",
   "execution_count": 14,
   "metadata": {},
   "outputs": [
    {
     "name": "stdout",
     "output_type": "stream",
     "text": [
      "0.pen\n",
      "1.pencil\n",
      "2.eraser\n",
      "3.sharpner\n",
      "4.scale\n",
      "5.book\n",
      "6.bag\n",
      "7.bottle\n"
     ]
    }
   ],
   "source": [
    "items =['pen','pencil','eraser','sharpner','scale','book','bag','bottle','tiffin','lunchbox']\n",
    "for i, v in enumerate(items):\n",
    "    if i ==8:\n",
    "        break\n",
    "    print(f'{i}.{v}')"
   ]
  },
  {
   "cell_type": "code",
   "execution_count": null,
   "metadata": {},
   "outputs": [],
   "source": []
  }
 ],
 "metadata": {
  "kernelspec": {
   "display_name": "base",
   "language": "python",
   "name": "python3"
  },
  "language_info": {
   "codemirror_mode": {
    "name": "ipython",
    "version": 3
   },
   "file_extension": ".py",
   "mimetype": "text/x-python",
   "name": "python",
   "nbconvert_exporter": "python",
   "pygments_lexer": "ipython3",
   "version": "3.12.4"
  }
 },
 "nbformat": 4,
 "nbformat_minor": 2
}
